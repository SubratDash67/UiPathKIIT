{
 "cells": [
  {
   "cell_type": "code",
   "execution_count": 1,
   "id": "fe18c587",
   "metadata": {},
   "outputs": [],
   "source": [
    "import alpaca_trade_api as tradeapi\n",
    "import pandas as pd\n",
    "\n",
    "api = tradeapi.REST('PK9EDK1MXXGCP1ECXU9B', 'My6ghxZy4GdhOXUiuH45yETfXNNZX6rgg5JdBTnl', 'https://paper-api.alpaca.markets/v2')\n",
    "\n",
    "def get_market_data(symbol):\n",
    "    barset = api.get_barset(symbol, 'minute', limit=100)\n",
    "    bars = barset[symbol]\n",
    "    return pd.DataFrame([{\n",
    "        'time': bar.t.isoformat(),\n",
    "        'open': bar.o,\n",
    "        'high': bar.h,\n",
    "        'low': bar.l,\n",
    "        'close': bar.c,\n",
    "        'volume': bar.v\n",
    "    } for bar in bars])\n",
    "\n",
    "def analyze_market_data(df):\n",
    "    df['signal'] = df['close'].rolling(window=10).mean() > df['close'].rolling(window=50).mean()\n",
    "    return df\n"
   ]
  },
  {
   "cell_type": "code",
   "execution_count": null,
   "id": "5792a6d3",
   "metadata": {},
   "outputs": [],
   "source": []
  }
 ],
 "metadata": {
  "kernelspec": {
   "display_name": "Python 3 (ipykernel)",
   "language": "python",
   "name": "python3"
  },
  "language_info": {
   "codemirror_mode": {
    "name": "ipython",
    "version": 3
   },
   "file_extension": ".py",
   "mimetype": "text/x-python",
   "name": "python",
   "nbconvert_exporter": "python",
   "pygments_lexer": "ipython3",
   "version": "3.11.5"
  }
 },
 "nbformat": 4,
 "nbformat_minor": 5
}
